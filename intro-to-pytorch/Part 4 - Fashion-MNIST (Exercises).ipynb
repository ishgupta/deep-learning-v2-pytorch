{
 "cells": [
  {
   "cell_type": "markdown",
   "metadata": {},
   "source": [
    "# Classifying Fashion-MNIST\n",
    "\n",
    "Now it's your turn to build and train a neural network. You'll be using the [Fashion-MNIST dataset](https://github.com/zalandoresearch/fashion-mnist), a drop-in replacement for the MNIST dataset. MNIST is actually quite trivial with neural networks where you can easily achieve better than 97% accuracy. Fashion-MNIST is a set of 28x28 greyscale images of clothes. It's more complex than MNIST, so it's a better representation of the actual performance of your network, and a better representation of datasets you'll use in the real world.\n",
    "\n",
    "<img src='assets/fashion-mnist-sprite.png' width=500px>\n",
    "\n",
    "In this notebook, you'll build your own neural network. For the most part, you could just copy and paste the code from Part 3, but you wouldn't be learning. It's important for you to write the code yourself and get it to work. Feel free to consult the previous notebooks though as you work through this.\n",
    "\n",
    "First off, let's load the dataset through torchvision."
   ]
  },
  {
   "cell_type": "code",
   "execution_count": 1,
   "metadata": {},
   "outputs": [
    {
     "output_type": "stream",
     "name": "stderr",
     "text": [
      "0it [00:00, ?it/s]Downloading http://fashion-mnist.s3-website.eu-central-1.amazonaws.com/train-images-idx3-ubyte.gz to C:\\Users\\SAI/.pytorch/F_MNIST_data/FashionMNIST\\raw\\train-images-idx3-ubyte.gz\n",
      "26427392it [00:03, 7477002.68it/s]                               \n",
      "Extracting C:\\Users\\SAI/.pytorch/F_MNIST_data/FashionMNIST\\raw\\train-images-idx3-ubyte.gz to C:\\Users\\SAI/.pytorch/F_MNIST_data/FashionMNIST\\raw\n",
      "0it [00:00, ?it/s]Downloading http://fashion-mnist.s3-website.eu-central-1.amazonaws.com/train-labels-idx1-ubyte.gz to C:\\Users\\SAI/.pytorch/F_MNIST_data/FashionMNIST\\raw\\train-labels-idx1-ubyte.gz\n",
      "32768it [00:00, 44585.07it/s]                            \n",
      "0it [00:00, ?it/s]Extracting C:\\Users\\SAI/.pytorch/F_MNIST_data/FashionMNIST\\raw\\train-labels-idx1-ubyte.gz to C:\\Users\\SAI/.pytorch/F_MNIST_data/FashionMNIST\\raw\n",
      "Downloading http://fashion-mnist.s3-website.eu-central-1.amazonaws.com/t10k-images-idx3-ubyte.gz to C:\\Users\\SAI/.pytorch/F_MNIST_data/FashionMNIST\\raw\\t10k-images-idx3-ubyte.gz\n",
      "4423680it [00:02, 1504166.82it/s]                             \n",
      "0it [00:00, ?it/s]Extracting C:\\Users\\SAI/.pytorch/F_MNIST_data/FashionMNIST\\raw\\t10k-images-idx3-ubyte.gz to C:\\Users\\SAI/.pytorch/F_MNIST_data/FashionMNIST\\raw\n",
      "Downloading http://fashion-mnist.s3-website.eu-central-1.amazonaws.com/t10k-labels-idx1-ubyte.gz to C:\\Users\\SAI/.pytorch/F_MNIST_data/FashionMNIST\\raw\\t10k-labels-idx1-ubyte.gz\n",
      "8192it [00:00, 13274.17it/s]            Extracting C:\\Users\\SAI/.pytorch/F_MNIST_data/FashionMNIST\\raw\\t10k-labels-idx1-ubyte.gz to C:\\Users\\SAI/.pytorch/F_MNIST_data/FashionMNIST\\raw\n",
      "Processing...\n",
      "Done!\n",
      "\n"
     ]
    }
   ],
   "source": [
    "import torch\n",
    "from torchvision import datasets, transforms\n",
    "import helper\n",
    "\n",
    "# Define a transform to normalize the data\n",
    "transform = transforms.Compose([transforms.ToTensor(),\n",
    "                                transforms.Normalize((0.5,), (0.5,))])\n",
    "# Download and load the training data\n",
    "trainset = datasets.FashionMNIST('~/.pytorch/F_MNIST_data/', download=True, train=True, transform=transform)\n",
    "trainloader = torch.utils.data.DataLoader(trainset, batch_size=64, shuffle=True)\n",
    "\n",
    "# Download and load the test data\n",
    "testset = datasets.FashionMNIST('~/.pytorch/F_MNIST_data/', download=True, train=False, transform=transform)\n",
    "testloader = torch.utils.data.DataLoader(testset, batch_size=64, shuffle=True)"
   ]
  },
  {
   "cell_type": "markdown",
   "metadata": {},
   "source": [
    "Here we can see one of the images."
   ]
  },
  {
   "cell_type": "code",
   "execution_count": 2,
   "metadata": {},
   "outputs": [
    {
     "output_type": "display_data",
     "data": {
      "text/plain": "<Figure size 432x288 with 1 Axes>",
      "image/svg+xml": "<?xml version=\"1.0\" encoding=\"utf-8\" standalone=\"no\"?>\r\n<!DOCTYPE svg PUBLIC \"-//W3C//DTD SVG 1.1//EN\"\r\n  \"http://www.w3.org/Graphics/SVG/1.1/DTD/svg11.dtd\">\r\n<!-- Created with matplotlib (https://matplotlib.org/) -->\r\n<svg height=\"231.84pt\" version=\"1.1\" viewBox=\"0 0 231.84 231.84\" width=\"231.84pt\" xmlns=\"http://www.w3.org/2000/svg\" xmlns:xlink=\"http://www.w3.org/1999/xlink\">\r\n <defs>\r\n  <style type=\"text/css\">\r\n*{stroke-linecap:butt;stroke-linejoin:round;}\r\n  </style>\r\n </defs>\r\n <g id=\"figure_1\">\r\n  <g id=\"patch_1\">\r\n   <path d=\"M 0 231.84 \r\nL 231.84 231.84 \r\nL 231.84 0 \r\nL 0 0 \r\nz\r\n\" style=\"fill:none;\"/>\r\n  </g>\r\n  <g id=\"axes_1\">\r\n   <g id=\"patch_2\">\r\n    <path d=\"M 7.2 224.64 \r\nL 224.64 224.64 \r\nL 224.64 7.2 \r\nL 7.2 7.2 \r\nz\r\n\" style=\"fill:#ffffff;\"/>\r\n   </g>\r\n   <g clip-path=\"url(#p98e57a9a96)\">\r\n    <image height=\"218\" id=\"image99897631fb\" transform=\"scale(1 -1)translate(0 -218)\" width=\"218\" x=\"7.2\" xlink:href=\"data:image/png;base64,\r\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\" y=\"-6.64\"/>\r\n   </g>\r\n   <g id=\"matplotlib.axis_1\">\r\n    <g id=\"xtick_1\">\r\n     <g id=\"line2d_1\"/>\r\n    </g>\r\n    <g id=\"xtick_2\">\r\n     <g id=\"line2d_2\"/>\r\n    </g>\r\n    <g id=\"xtick_3\">\r\n     <g id=\"line2d_3\"/>\r\n    </g>\r\n    <g id=\"xtick_4\">\r\n     <g id=\"line2d_4\"/>\r\n    </g>\r\n    <g id=\"xtick_5\">\r\n     <g id=\"line2d_5\"/>\r\n    </g>\r\n    <g id=\"xtick_6\">\r\n     <g id=\"line2d_6\"/>\r\n    </g>\r\n   </g>\r\n   <g id=\"matplotlib.axis_2\">\r\n    <g id=\"ytick_1\">\r\n     <g id=\"line2d_7\"/>\r\n    </g>\r\n    <g id=\"ytick_2\">\r\n     <g id=\"line2d_8\"/>\r\n    </g>\r\n    <g id=\"ytick_3\">\r\n     <g id=\"line2d_9\"/>\r\n    </g>\r\n    <g id=\"ytick_4\">\r\n     <g id=\"line2d_10\"/>\r\n    </g>\r\n    <g id=\"ytick_5\">\r\n     <g id=\"line2d_11\"/>\r\n    </g>\r\n    <g id=\"ytick_6\">\r\n     <g id=\"line2d_12\"/>\r\n    </g>\r\n   </g>\r\n  </g>\r\n </g>\r\n <defs>\r\n  <clipPath id=\"p98e57a9a96\">\r\n   <rect height=\"217.44\" width=\"217.44\" x=\"7.2\" y=\"7.2\"/>\r\n  </clipPath>\r\n </defs>\r\n</svg>\r\n",
      "image/png": "[encoded data removed]"
     },
     "metadata": {
      "needs_background": "light"
     }
    }
   ],
   "source": [
    "image, label = next(iter(trainloader))\n",
    "helper.imshow(image[0,:]);"
   ]
  },
  {
   "cell_type": "markdown",
   "metadata": {},
   "source": [
    "## Building the network\n",
    "\n",
    "Here you should define your network. As with MNIST, each image is 28x28 which is a total of 784 pixels, and there are 10 classes. You should include at least one hidden layer. We suggest you use ReLU activations for the layers and to return the logits or log-softmax from the forward pass. It's up to you how many layers you add and the size of those layers."
   ]
  },
  {
   "cell_type": "code",
   "execution_count": 53,
   "metadata": {},
   "outputs": [],
   "source": [
    "# TODO: Define your network architecture here\n",
    "from torch import nn, optim\n",
    "import torch.nn.functional as F\n",
    "\"\"\"model = nn.Sequential(\n",
    "    nn.Linear( 784, 128 ),\n",
    "    nn.ReLU(),\n",
    "    nn.Linear( 128, 64 ),\n",
    "    nn.ReLU(),\n",
    "    nn.Linear( 64, 10 ),\n",
    "    nn.LogSoftmax( dim = 1 )\n",
    ")\"\"\"\n",
    "\n",
    "class Clothing_Classifier( nn.Module ):\n",
    "    def __init__( self ):\n",
    "        super().__init__()\n",
    "        self.fc1 = nn.Linear( 784, 512 )\n",
    "        self.fc2 = nn.Linear( 512, 256 )\n",
    "        self.fc3 = nn.Linear( 256, 64 )\n",
    "        self.fc4 = nn.Linear( 64, 10 )\n",
    "\n",
    "    def forward( self, x ):\n",
    "        x = F.relu( self.fc1( x ) )\n",
    "        x = F.relu( self.fc2( x ) )\n",
    "        x = F.relu( self.fc3( x ) )\n",
    "        x = F.log_softmax( self.fc4( x ), dim = 1 )\n",
    "        return x\n"
   ]
  },
  {
   "cell_type": "markdown",
   "metadata": {},
   "source": [
    "# Train the network\n",
    "\n",
    "Now you should create your network and train it. First you'll want to define [the criterion](http://pytorch.org/docs/master/nn.html#loss-functions) ( something like `nn.CrossEntropyLoss`) and [the optimizer](http://pytorch.org/docs/master/optim.html) (typically `optim.SGD` or `optim.Adam`).\n",
    "\n",
    "Then write the training code. Remember the training pass is a fairly straightforward process:\n",
    "\n",
    "* Make a forward pass through the network to get the logits \n",
    "* Use the logits to calculate the loss\n",
    "* Perform a backward pass through the network with `loss.backward()` to calculate the gradients\n",
    "* Take a step with the optimizer to update the weights\n",
    "\n",
    "By adjusting the hyperparameters (hidden units, learning rate, etc), you should be able to get the training loss below 0.4."
   ]
  },
  {
   "cell_type": "code",
   "execution_count": 54,
   "metadata": {},
   "outputs": [],
   "source": [
    "# TODO: Create the network, define the criterion and optimizer\n",
    "model = Clothing_Classifier()\n",
    "criterion = nn.NLLLoss()\n",
    "optimizer = optim.SGD( model.parameters(), lr = 0.01 )"
   ]
  },
  {
   "cell_type": "code",
   "execution_count": 55,
   "metadata": {},
   "outputs": [
    {
     "output_type": "stream",
     "name": "stdout",
     "text": [
      "Training loss: 1.248360481216455\n",
      "Training loss: 0.5935602352372619\n",
      "Training loss: 0.5052216428556422\n",
      "Training loss: 0.4601163077614963\n",
      "Training loss: 0.43211685106761927\n"
     ]
    }
   ],
   "source": [
    "# TODO: Train the network here\n",
    "epochs = 5\n",
    "for epoch in range( epochs ):\n",
    "    running_loss = 0\n",
    "    for images, labels in trainloader:\n",
    "        images = images.view( images.shape[ 0 ], -1 )\n",
    "\n",
    "        optimizer.zero_grad()\n",
    "        output = model( images )\n",
    "        loss = criterion( output, labels )\n",
    "        loss.backward()\n",
    "        optimizer.step()\n",
    "        running_loss += loss.item()\n",
    "    else:\n",
    "        print( f\"Training loss: {running_loss / len( trainloader )}\" )"
   ]
  },
  {
   "cell_type": "code",
   "execution_count": 56,
   "metadata": {},
   "outputs": [
    {
     "output_type": "display_data",
     "data": {
      "text/plain": "<Figure size 432x648 with 2 Axes>",
      "image/png": "[encoded data removed]"
     },
     "metadata": {
      "image/png": {
       "width": 424,
       "height": 216
      },
      "needs_background": "light"
     }
    }
   ],
   "source": [
    "%matplotlib inline\n",
    "%config InlineBackend.figure_format = 'retina'\n",
    "\n",
    "import helper\n",
    "\n",
    "# Test out your network!\n",
    "\n",
    "dataiter = iter(testloader)\n",
    "images, labels = dataiter.next()\n",
    "img = images[0]\n",
    "# Convert 2D image to 1D vector\n",
    "img = img.resize_(1, 784)\n",
    "\n",
    "# TODO: Calculate the class probabilities (softmax) for img\n",
    "with torch.no_grad():\n",
    "    ps = model( img )\n",
    "ps = torch.exp( ps )\n",
    "# ps = torch.exp( model( img ) )\n",
    "# Plot the image and probabilities\n",
    "helper.view_classify(img.resize_(1, 28, 28), ps, version='Fashion')"
   ]
  },
  {
   "cell_type": "code",
   "execution_count": null,
   "metadata": {},
   "outputs": [],
   "source": []
  }
 ],
 "metadata": {
  "kernelspec": {
   "display_name": "Python 3",
   "language": "python",
   "name": "python3"
  },
  "language_info": {
   "codemirror_mode": {
    "name": "ipython",
    "version": 3
   },
   "file_extension": ".py",
   "mimetype": "text/x-python",
   "name": "python",
   "nbconvert_exporter": "python",
   "pygments_lexer": "ipython3",
   "version": "3.7.7-final"
  }
 },
 "nbformat": 4,
 "nbformat_minor": 2
}